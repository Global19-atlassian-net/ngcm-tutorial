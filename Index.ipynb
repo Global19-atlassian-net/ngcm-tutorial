{
 "cells": [
  {
   "cell_type": "markdown",
   "metadata": {
    "collapsed": true
   },
   "source": [
    "# Jupyter and IPython"
   ]
  },
  {
   "cell_type": "markdown",
   "metadata": {},
   "source": [
    "* **Day 1**\n",
    "    * [Morning: Introducing Jupyter notebooks and IPython](Part-1/Index.ipynb)\n",
    "    * [Afternoon: Working with notebook files](Part-2/Index.ipynb)\n",
    "* Day 2:\n",
    "    * [Morning: Interactive 'widgets' in the notebook](Part-3/Index.ipynb)\n",
    "    * [Afternoon: Interactive Parallel computing](Part-4/Index.ipynb)"
   ]
  }
 ],
 "metadata": {
  "kernelspec": {
   "display_name": "Python 3",
   "language": "python",
   "name": "python3"
  },
  "language_info": {
   "codemirror_mode": {
    "name": "ipython",
    "version": 3
   },
   "file_extension": ".py",
   "mimetype": "text/x-python",
   "name": "python",
   "nbconvert_exporter": "python",
   "pygments_lexer": "ipython3",
   "version": "3.5.2"
  }
 },
 "nbformat": 4,
 "nbformat_minor": 1
}
