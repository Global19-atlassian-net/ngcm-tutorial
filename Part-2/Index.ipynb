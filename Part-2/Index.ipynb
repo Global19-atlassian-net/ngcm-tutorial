{
 "cells": [
  {
   "cell_type": "markdown",
   "metadata": {},
   "source": [
    "<img src=\"images/jupyter_logo.png\">"
   ]
  },
  {
   "cell_type": "markdown",
   "metadata": {},
   "source": [
    "# Day 1 (Afternoon): Working with notebook files\n",
    "\n",
    "Jupyter notebooks are themselves files that can be manipulated programatically and can be converted to a variety of formats with customizations.\n",
    "\n",
    "This section is a whistle-stop tour of four different tools to help you work with and share notebook files: **nbconvert**, **nbdime**, **nbviewer** and **nbval**.\n",
    "\n",
    "## Notebook files and Nbconvert\n",
    "\n",
    "* [Notebook file format](nbconvert_templates/Notebook file format.ipynb)\n",
    "* [Nbconvert and templates](nbconvert_templates/Nbconvert templates.ipynb)\n",
    "\n"
   ]
  }
 ],
 "metadata": {
  "kernelspec": {
   "display_name": "Python 3",
   "language": "python",
   "name": "python3"
  },
  "language_info": {
   "codemirror_mode": {
    "name": "ipython",
    "version": 3
   },
   "file_extension": ".py",
   "mimetype": "text/x-python",
   "name": "python",
   "nbconvert_exporter": "python",
   "pygments_lexer": "ipython3",
   "version": "3.5.2"
  },
  "widgets": {
   "state": {},
   "version": "1.1.1"
  }
 },
 "nbformat": 4,
 "nbformat_minor": 1
}
